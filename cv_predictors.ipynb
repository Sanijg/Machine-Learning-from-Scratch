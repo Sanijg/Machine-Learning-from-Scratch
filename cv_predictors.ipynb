{
 "cells": [
  {
   "cell_type": "code",
   "execution_count": 1,
   "metadata": {},
   "outputs": [],
   "source": [
    "%load_ext autoreload\n",
    "%autoreload 2\n",
    "%matplotlib inline"
   ]
  },
  {
   "cell_type": "code",
   "execution_count": 2,
   "metadata": {
    "scrolled": true
   },
   "outputs": [
    {
     "name": "stdout",
     "output_type": "stream",
     "text": [
      "Found pickle file. Loading 20news data from file.\n",
      "Doing so should be faster than loading from raw text, but if the file is corrupted, delete it and this script will automatically load from the raw text next time it is run.\n",
      "Finished loading in 0.03 seconds.\n",
      "61188\n"
     ]
    }
   ],
   "source": [
    "import numpy as np\n",
    "from decision_tree import calculate_information_gain, decision_tree_train, decision_tree_predict\n",
    "from naive_bayes import naive_bayes_train, naive_bayes_predict\n",
    "from load_all_data import load_all_data\n",
    "from crossval import cross_validate\n",
    "import random\n",
    "import matplotlib.pyplot as plt"
   ]
  },
  {
   "cell_type": "code",
   "execution_count": 3,
   "metadata": {},
   "outputs": [
    {
     "name": "stdout",
     "output_type": "stream",
     "text": [
      "Found pickle file. Loading 20news data from file.\n",
      "Doing so should be faster than loading from raw text, but if the file is corrupted, delete it and this script will automatically load from the raw text next time it is run.\n",
      "Finished loading in 0.01 seconds.\n"
     ]
    }
   ],
   "source": [
    "num_words, num_training, num_testing, train_data, test_data, train_labels, test_labels = load_all_data()"
   ]
  },
  {
   "cell_type": "code",
   "execution_count": 4,
   "metadata": {},
   "outputs": [],
   "source": [
    "d = 5000 # maximum number of features"
   ]
  },
  {
   "cell_type": "code",
   "execution_count": 5,
   "metadata": {},
   "outputs": [
    {
     "name": "stdout",
     "output_type": "stream",
     "text": [
      "[6.89207785e-03 5.72929455e-03 2.35420535e-02 ... 1.76640647e-12\n",
      " 1.76640647e-12 1.76640647e-12]\n"
     ]
    }
   ],
   "source": [
    "# Filter features by information gain\n",
    "\n",
    "gain = calculate_information_gain(train_data, train_labels)\n",
    "\n",
    "print(gain)\n",
    "\n",
    "# sort features by calculated information gain\n",
    "ranks = gain.argsort()[::-1]\n",
    "\n",
    "train_data = train_data[ranks[:d], :]\n",
    "test_data = test_data[ranks[:d], :] #Just selecting 5000 datapoints\n",
    "\n",
    "# convert training data to dense ndarray\n",
    "train_data = train_data.toarray()\n",
    "test_data = test_data.toarray()"
   ]
  },
  {
   "cell_type": "code",
   "execution_count": 6,
   "metadata": {},
   "outputs": [],
   "source": [
    "# randomly shuffle data\n",
    "\n",
    "order = list(range(num_training))\n",
    "random.shuffle(order)\n",
    "\n",
    "train_data = train_data[:, order]\n",
    "train_labels = train_labels[order]"
   ]
  },
  {
   "cell_type": "code",
   "execution_count": 7,
   "metadata": {},
   "outputs": [
    {
     "data": {
      "text/plain": [
       "array([1.e-10, 1.e-09, 1.e-08, 1.e-07, 1.e-06, 1.e-05, 1.e-04, 1.e-03,\n",
       "       1.e-02, 1.e-01])"
      ]
     },
     "execution_count": 7,
     "metadata": {},
     "output_type": "execute_result"
    }
   ],
   "source": [
    "10.0 ** np.array(range(-10,0))"
   ]
  },
  {
   "cell_type": "code",
   "execution_count": 9,
   "metadata": {},
   "outputs": [],
   "source": [
    "# Try naive Bayes with cross-validation\n",
    "\n",
    "alpha_values = 10.0 ** np.array(range(-10,0))\n",
    "\n",
    "cv_score = np.zeros(alpha_values.size)\n",
    "\n",
    "params = dict()\n",
    "\n",
    "for i in range(alpha_values.size):\n",
    "    params['alpha'] = alpha_values[i]\n",
    "    cv_score[i], _ = cross_validate(naive_bayes_train, naive_bayes_predict, \n",
    "                                    train_data, train_labels, 8, params)"
   ]
  },
  {
   "cell_type": "code",
   "execution_count": 10,
   "metadata": {},
   "outputs": [
    {
     "data": {
      "text/plain": [
       "Text(0.5, 1.0, 'Naive Bayes Cross-Validation Accuracy')"
      ]
     },
     "execution_count": 10,
     "metadata": {},
     "output_type": "execute_result"
    },
    {
     "data": {
      "image/png": "[encoded data removed]",
      "text/plain": [
       "<Figure size 432x288 with 1 Axes>"
      ]
     },
     "metadata": {
      "needs_background": "light"
     },
     "output_type": "display_data"
    }
   ],
   "source": [
    "plt.semilogx(alpha_values, cv_score)\n",
    "plt.xlabel('alpha')\n",
    "plt.ylabel('CV Accuracy')\n",
    "plt.title('Naive Bayes Cross-Validation Accuracy')"
   ]
  },
  {
   "cell_type": "code",
   "execution_count": 11,
   "metadata": {},
   "outputs": [],
   "source": [
    "# Train on full data with best alpha value\n",
    "\n",
    "best_alpha_index = cv_score.argmax()\n",
    "\n",
    "params['alpha'] = alpha_values[best_alpha_index]\n",
    "\n",
    "nb_model = naive_bayes_train(train_data, train_labels, params)"
   ]
  },
  {
   "cell_type": "code",
   "execution_count": 12,
   "metadata": {},
   "outputs": [
    {
     "name": "stdout",
     "output_type": "stream",
     "text": [
      "Naive Bayes testing accuracy: 0.670220\n"
     ]
    }
   ],
   "source": [
    "# Compute testing accuracy\n",
    "\n",
    "nb_predictions = naive_bayes_predict(test_data, nb_model)\n",
    "\n",
    "nb_accuracy = np.mean(nb_predictions == test_labels)\n",
    "\n",
    "print(\"Naive Bayes testing accuracy: %f\" % nb_accuracy)"
   ]
  },
  {
   "cell_type": "code",
   "execution_count": 13,
   "metadata": {},
   "outputs": [],
   "source": [
    "# prune data to even smaller (since decision tree takes much longer to train)\n",
    "\n",
    "d = 250\n",
    "\n",
    "train_data_small = train_data[:d, :]\n",
    "test_data_small = test_data[:d, :]"
   ]
  },
  {
   "cell_type": "code",
   "execution_count": 14,
   "metadata": {},
   "outputs": [],
   "source": [
    "depth_values = np.array([2, 4, 8, 16, 32, 64])\n",
    "\n",
    "cv_score = np.zeros(depth_values.size)\n",
    "\n",
    "params = dict()\n",
    "\n",
    "for i in range(depth_values.size):\n",
    "    params['max_depth'] = depth_values[i]\n",
    "    cv_score[i], _ = cross_validate(decision_tree_train, decision_tree_predict, \n",
    "                                 train_data_small, train_labels, 3, params)"
   ]
  },
  {
   "cell_type": "code",
   "execution_count": 15,
   "metadata": {},
   "outputs": [
    {
     "data": {
      "text/plain": [
       "Text(0.5, 1.0, 'Decision Tree Cross-Validation Accuracy')"
      ]
     },
     "execution_count": 15,
     "metadata": {},
     "output_type": "execute_result"
    },
    {
     "data": {
      "image/png": "[encoded data removed]",
      "text/plain": [
       "<Figure size 432x288 with 1 Axes>"
      ]
     },
     "metadata": {
      "needs_background": "light"
     },
     "output_type": "display_data"
    }
   ],
   "source": [
    "plt.plot(depth_values, cv_score)\n",
    "plt.xlabel('Max Depth')\n",
    "plt.ylabel('CV Accuracy')\n",
    "plt.title('Decision Tree Cross-Validation Accuracy')"
   ]
  },
  {
   "cell_type": "code",
   "execution_count": null,
   "metadata": {},
   "outputs": [],
   "source": [
    "# Train on full data with best depth\n",
    "\n",
    "best_depth_index = cv_score.argmax()\n",
    "\n",
    "params['max_depth'] = depth_values[best_depth_index]\n",
    "\n",
    "dt_model = decision_tree_train(train_data, train_labels, params)"
   ]
  },
  {
   "cell_type": "code",
   "execution_count": null,
   "metadata": {},
   "outputs": [],
   "source": [
    "# Compute testing accuracy\n",
    "\n",
    "dt_predictions = decision_tree_predict(test_data, dt_model)\n",
    "\n",
    "dt_accuracy = np.mean(dt_predictions == test_labels)\n",
    "\n",
    "print(\"Decision tree testing accuracy: %f\" % dt_accuracy)"
   ]
  },
  {
   "cell_type": "code",
   "execution_count": null,
   "metadata": {},
   "outputs": [],
   "source": []
  }
 ],
 "metadata": {
  "anaconda-cloud": {},
  "kernelspec": {
   "display_name": "Python 3",
   "language": "python",
   "name": "python3"
  },
  "language_info": {
   "codemirror_mode": {
    "name": "ipython",
    "version": 3
   },
   "file_extension": ".py",
   "mimetype": "text/x-python",
   "name": "python",
   "nbconvert_exporter": "python",
   "pygments_lexer": "ipython3",
   "version": "3.7.3"
  }
 },
 "nbformat": 4,
 "nbformat_minor": 1
}
